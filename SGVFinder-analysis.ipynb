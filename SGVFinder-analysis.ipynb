{
 "cells": [
  {
   "cell_type": "code",
   "execution_count": 1,
   "metadata": {},
   "outputs": [],
   "source": [
    "import pandas as pd"
   ]
  },
  {
   "cell_type": "code",
   "execution_count": null,
   "metadata": {},
   "outputs": [],
   "source": [
    "## let's examine the provided dataframes for the reference genomes.\n",
    "reference_taxonomy_df = pd.read_pickle(\"../data/SGVFinder/DataFiles/representatives.genomes.taxonomy.df\")\n",
    "## The annotations are in a multiindexed dataframe:\n",
    "## https://pandas.pydata.org/pandas-docs/stable/reference/api/pandas.MultiIndex.html\n",
    "## https://pandas.pydata.org/pandas-docs/stable/user_guide/advanced.html#hierarchical-indexing-multiindex\n",
    "reference_annotations_df = pd.read_pickle(\"../data/SGVFinder/DataFiles/representatives.genes.drepped.annotations.df\")"
   ]
  },
  {
   "cell_type": "code",
   "execution_count": null,
   "metadata": {},
   "outputs": [],
   "source": [
    "reference_taxonomy_df"
   ]
  },
  {
   "cell_type": "code",
   "execution_count": null,
   "metadata": {},
   "outputs": [],
   "source": [
    "reference_annotations_df"
   ]
  },
  {
   "cell_type": "code",
   "execution_count": null,
   "metadata": {},
   "outputs": [],
   "source": [
    "## rows are samples, and the columns are the reference genomes.\n",
    "## I am not yet sure how to get the genes or regions.\n",
    "\n",
    "orig_deletion_df = pd.read_pickle(\"../results/DIABIMMUNE-SGVFinder/orig_dsgv.df\")\n",
    "orig_struct_variation_df = pd.read_pickle(\"../results/DIABIMMUNE-SGVFinder/orig_vsgv.df\")\n",
    "\n",
    "DIABIMMUNE_deletion_df = pd.read_pickle(\"../results/DIABIMMUNE-SGVFinder/dsgv.df\")\n",
    "DIABIMMUNE_struct_variation_df = pd.read_pickle(\"../results/DIABIMMUNE-SGVFinder/vsgv.df\")"
   ]
  },
  {
   "cell_type": "code",
   "execution_count": null,
   "metadata": {},
   "outputs": [],
   "source": [
    "## let's get a list of all the reference genomes present in my DIABIMMUNE analysis,\n",
    "## based on the column names.\n",
    "DIABIMMUNE_deletion_cols = [str(col) for col in DIABIMMUNE_deletion_df.columns]\n",
    "DIABIMMUNE_deletion_reference_genomes = set([x.split(':')[0] for x in DIABIMMUNE_deletion_cols])\n",
    "\n",
    "DIABIMMUNE_structvar_cols = [str(col) for col in DIABIMMUNE_struct_variation_df.columns]\n",
    "DIABIMMUNE_structvar_reference_genomes = set([x.split(':')[0] for x in DIABIMMUNE_structvar_cols])\n",
    "\n",
    "## now take the union of the two sets. There are 38 reference genomes represented here.\n",
    "DIABIMMUNE_ref_genomes = DIABIMMUNE_structvar_reference_genomes.union(DIABIMMUNE_deletion_reference_genomes)\n",
    "num_DIABIMMUNE_ref_genomes = len(DIABIMMUNE_ref_genomes)\n",
    "\n",
    "## now take the intersection of the two sets. There are 38 reference genomes represented here.\n",
    "DIABIMMUNE_ref_intersection = DIABIMMUNE_structvar_reference_genomes.intersection(DIABIMMUNE_deletion_reference_genomes)\n",
    "num_DIABIMMUNE_ref_intersection = len(DIABIMMUNE_ref_intersection)\n",
    "\n",
    "## the union and intersection are the same!\n",
    "print(DIABIMMUNE_ref_intersection == DIABIMMUNE_ref_genomes)"
   ]
  },
  {
   "cell_type": "code",
   "execution_count": null,
   "metadata": {},
   "outputs": [],
   "source": [
    "## E. coli is 562.PRJNA242851.\n",
    "Ecoli_reference = \"562.PRJNA242851\"\n",
    "\n",
    "## let's get all columns that match E. coli in the deletion dataframe.\n",
    "deletion_cols_with_Ecoli = [x for x in DIABIMMUNE_deletion_cols if Ecoli_reference in x]\n",
    "\n",
    "## let's get all columns that match E. coli in the structural variation dataframe.\n",
    "structvar_cols_with_Ecoli = [x for x in DIABIMMUNE_structvar_cols if Ecoli_reference in x]\n",
    "\n",
    "## now let's select just these Ecoli columns in both dataframes,\n",
    "## and drop rows that only have missing values\n",
    "Ecoli_DIABIMMUNE_deletion_df = DIABIMMUNE_deletion_df[deletion_cols_with_Ecoli].dropna(how=\"all\")\n",
    "Ecoli_DIABIMMUNE_structvar_df = DIABIMMUNE_struct_variation_df[structvar_cols_with_Ecoli].dropna(how=\"all\")"
   ]
  },
  {
   "cell_type": "code",
   "execution_count": null,
   "metadata": {},
   "outputs": [],
   "source": [
    "Ecoli_DIABIMMUNE_deletion_df"
   ]
  },
  {
   "cell_type": "code",
   "execution_count": null,
   "metadata": {},
   "outputs": [],
   "source": [
    "Ecoli_DIABIMMUNE_structvar_df"
   ]
  },
  {
   "cell_type": "code",
   "execution_count": null,
   "metadata": {},
   "outputs": [],
   "source": [
    "## Let's subset the original data by E. coli for comparison.\n",
    "orig_sv_cols = [str(x) for x in orig_struct_variation_df.columns]\n",
    "\n",
    "## let's get all columns that match E. coli in the structural variation dataframe.\n",
    "orig_sv_cols_with_Ecoli = [x for x in orig_sv_cols if Ecoli_reference in x]\n",
    "\n",
    "## now let's select just these Ecoli columns in both dataframes.\n",
    "Ecoli_orig_sv_df = orig_struct_variation_df[orig_sv_cols_with_Ecoli].dropna(how=\"all\")\n",
    "Ecoli_orig_sv_df"
   ]
  },
  {
   "cell_type": "code",
   "execution_count": null,
   "metadata": {},
   "outputs": [],
   "source": [
    "## Let's examine the E. coli dataframe from the SGVFinder original data.\n",
    "## see: https://www.ncbi.nlm.nih.gov/bioproject/PRJNA242851/\n",
    "## This is E. coli NIH1.\n",
    "\n",
    "## each number refers to a bin in the reference genome. each bin is 1kbp in length.\n",
    "Ecoli_df = pd.read_pickle(\"../data/SGVFinder/DataFiles/orig_frames/562.PRJNA242851.df\")\n",
    "Ecoli_df"
   ]
  },
  {
   "cell_type": "code",
   "execution_count": null,
   "metadata": {},
   "outputs": [],
   "source": [
    "## let's also examine just the Ecoli genes from reference_annotations_df.\n",
    "Ecoli_annotations_df = reference_annotations_df.loc[Ecoli_reference]\n",
    "Ecoli_annotations_df"
   ]
  },
  {
   "cell_type": "code",
   "execution_count": null,
   "metadata": {},
   "outputs": [],
   "source": [
    "unknown_protein_keywords = \"unknown|Unknown|hypothetical|Hypothetical|Uncharacterized|Uncharacterised|uncharacterized|uncharacterised|DUF|unknow|putative protein in bacteria|Unassigned|unassigned\"\n",
    "\n",
    "## NOTE: some hypothetical proteins are \"ISXX family insertion sequence hypothetical protein\"\n",
    "## so filter out those cases, when counting unknown proteins.\n",
    "\n",
    "\n",
    "## match MGE genes using the following keywords in the \"product\" annotation\n",
    "IS_keywords = \"IS|transposon|Transposase|transposase|Transposable|transposable|virus|Phage|phage|integrase|Integrase|baseplate|tail|intron|Mobile|mobile|antitoxin|toxin|capsid|plasmid|Plasmid|conjug|Tra\"\n",
    "\n",
    "## Elongation Factor Tu (2 copies in most bacteria).\n",
    "## \\\\b is a word boundary.\n",
    "## see: https://stackoverflow.com/questions/62430498/detecting-whole-words-using-str-detect-in-r\n",
    "EFTu_keywords = \"\\\\bTu | Tu\\\\b|-Tu\\\\b\"\n",
    "\n",
    "## antibiotic-specific keywords.\n",
    "chloramphenicol_keywords = \"chloramphenicol|Chloramphenicol\"\n",
    "tetracycline_keywords = \"tetracycline|Tetracycline\"\n",
    "MLS_keywords = \"macrolide|lincosamide|streptogramin\"\n",
    "multidrug_keywords = \"multidrug\"\n",
    "beta_lactam_keywords = \"lactamase\"\n",
    "glycopeptide_keywords = \"glycopeptide resistance|VanZ\"\n",
    "polypeptide_keywords = \"bacitracin|polymyxin B\"\n",
    "diaminopyrimidine_keywords = \"trimethoprim-resistant\"\n",
    "sulfonamide_keywords = \"sulfonamide-resistant\"\n",
    "quinolone_keywords = \"quinolone|Quinolone|oxacin\"\n",
    "aminoglycoside_keywords = \"aminoglycoside|streptomycin|Streptomycin|kanamycin|Kanamycin|tobramycin|Tobramycin|gentamicin|Gentamicin|neomycin|Neomycin\"\n",
    "macrolide_keywords = \"macrolide|ketolide|Azithromycin|azithromycin|Clarithromycin|clarithromycin|Erythromycin|erythomycin\"\n",
    "\n",
    "antibiotic_keywords = \"chloramphenicol|Chloramphenicol|tetracycline|Tetracycline|macrolide|lincosamide|streptogramin|multidrug|lactamase|glycopeptide resistance|VanZ|bacitracin|polymyxin B|trimethoprim-resistant|sulfonamide-resistant|quinolone|Quinolone|oxacin|aminoglycoside|streptomycin|Streptomycin|kanamycin|Kanamycin|tobramycin|Tobramycin|gentamicin|Gentamicin|neomycin|Neomycin|macrolide|ketolide|Azithromycin|azithromycin|Clarithromycin|clarithromycin|Erythromycin|erythomycin|antibiotic resistance\""
   ]
  }
 ],
 "metadata": {
  "kernelspec": {
   "display_name": "Python 3",
   "language": "python",
   "name": "python3"
  },
  "language_info": {
   "codemirror_mode": {
    "name": "ipython",
    "version": 3
   },
   "file_extension": ".py",
   "mimetype": "text/x-python",
   "name": "python",
   "nbconvert_exporter": "python",
   "pygments_lexer": "ipython3",
   "version": "3.7.6"
  }
 },
 "nbformat": 4,
 "nbformat_minor": 4
}
